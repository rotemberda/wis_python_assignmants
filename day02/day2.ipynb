{
 "cells": [
  {
   "cell_type": "code",
   "execution_count": 9,
   "id": "9b95a7d0-32d1-4b0c-8796-11dee937997c",
   "metadata": {},
   "outputs": [],
   "source": [
    "from math import pi"
   ]
  },
  {
   "cell_type": "code",
   "execution_count": 7,
   "id": "f192c822-9d67-4191-8b07-32ad9d48ec48",
   "metadata": {},
   "outputs": [
    {
     "name": "stdin",
     "output_type": "stream",
     "text": [
      "what the width?  3\n",
      "what the length?  4\n",
      "What's the radius?  5\n"
     ]
    }
   ],
   "source": [
    "while True:\n",
    "    try:\n",
    "        width = int(input(\"what the width? \"))\n",
    "        break\n",
    "    except:\n",
    "        print(\"Invalid input! Input type isn't 'int'\")\n",
    "\n",
    "while True:\n",
    "    try:\n",
    "        length = int(input(\"what the length? \"))\n",
    "        break\n",
    "    except:\n",
    "        print(\"Invalid input! Input type isn't 'int'\")\n",
    "\n",
    "while True:\n",
    "    try:\n",
    "        radius = int(input(\"What's the radius? \"))\n",
    "        break\n",
    "    except:\n",
    "        print(\"Invalid input! Input type isn't 'int'\")"
   ]
  },
  {
   "cell_type": "code",
   "execution_count": 8,
   "id": "e91566a1-9a91-4820-8093-14cbc864e9aa",
   "metadata": {},
   "outputs": [
    {
     "name": "stdout",
     "output_type": "stream",
     "text": [
      "The area of the rectangle is 12\n",
      "The circumference of the rectangle is 14\n"
     ]
    }
   ],
   "source": [
    "print(\"The area of the rectangle is\", length * width)\n",
    "print(\"The circumference of the rectangle is\", length * 2 + width * 2)"
   ]
  },
  {
   "cell_type": "code",
   "execution_count": 10,
   "id": "b6f3f577-726f-4f46-8164-a49d1943906f",
   "metadata": {},
   "outputs": [
    {
     "name": "stdout",
     "output_type": "stream",
     "text": [
      "The area of the circle is 78.53981633974483\n",
      "The circumference of the circle is 31.41592653589793\n"
     ]
    }
   ],
   "source": [
    "print(\"The area of the circle is\", radius ** 2 * pi)\n",
    "print(\"The circumference of the circle is\", radius * 2 * pi)"
   ]
  }
 ],
 "metadata": {
  "kernelspec": {
   "display_name": "Python 3 (ipykernel)",
   "language": "python",
   "name": "python3"
  },
  "language_info": {
   "codemirror_mode": {
    "name": "ipython",
    "version": 3
   },
   "file_extension": ".py",
   "mimetype": "text/x-python",
   "name": "python",
   "nbconvert_exporter": "python",
   "pygments_lexer": "ipython3",
   "version": "3.12.6"
  }
 },
 "nbformat": 4,
 "nbformat_minor": 5
}
